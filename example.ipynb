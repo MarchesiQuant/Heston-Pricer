{
 "cells": [
  {
   "cell_type": "code",
   "execution_count": null,
   "id": "c5af4726",
   "metadata": {},
   "outputs": [],
   "source": [
    "from heston_model import HestonModel\n",
    "from heston_calibration import calibrate\n",
    "from heston_pricer import Pricer\n",
    "import numpy as np\n",
    "import matplotlib.pyplot as plt\n",
    "import pandas as pd"
   ]
  },
  {
   "cell_type": "code",
   "execution_count": null,
   "id": "42823406",
   "metadata": {},
   "outputs": [],
   "source": [
    "# Heston model params\n",
    "params = {'kappa': 2.0,'theta': 0.04,'xi': 0.3,'rho': -0.7,'v0': 0.04}\n",
    "model = HestonModel(params)\n",
    "\n",
    "# Market params\n",
    "S0 = 254.43; r = 0.036735; q = 0; T = 1\n",
    "K = np.linspace(0.5*S0, 2*S0, 20)\n",
    "\n",
    "# Prices\n",
    "mc_prices = model.monte_carlo_call(T, S0, r, q, K)\n",
    "heston_prices =  model.heston_call(T, S0, r, q, K)\n",
    "fft_prices = model.carr_madan_call(T, S0, r, q, K)\n",
    "print(f\"Max relative error between Carr-Madan and Heston: {np.max(np.abs(fft_prices/heston_prices - 1)):.4e}\")\n",
    "\n",
    "# Plot\n",
    "plt.plot(K, mc_prices, 'o-', label='Monte Carlo')\n",
    "plt.plot(K, heston_prices, 's-', label='Heston')\n",
    "plt.plot(K, fft_prices, '^-', label='Carr-Madan')\n",
    "plt.xlabel('Strike K')\n",
    "plt.ylabel('Call Price')\n",
    "plt.title('Call Prices under Heston Model')\n",
    "plt.legend()\n",
    "plt.tight_layout()\n",
    "plt.grid()\n",
    "plt.show()"
   ]
  },
  {
   "cell_type": "code",
   "execution_count": null,
   "id": "f6b1ea42",
   "metadata": {},
   "outputs": [],
   "source": [
    "# Calibration \n",
    "file = r\"Calibration Template AAPL.xlsx\"\n",
    "surf = pd.read_excel(file)\n",
    "result = calibrate(model, surf, S0, r, T, q)"
   ]
  },
  {
   "cell_type": "code",
   "execution_count": null,
   "id": "c29e24f0",
   "metadata": {},
   "outputs": [],
   "source": [
    "# Vol process\n",
    "S_t, v_t = model.simulate(S0, T, r, q, npaths = 1000)\n",
    "plt.plot(np.sqrt(v_t))\n",
    "plt.tight_layout()\n",
    "plt.xlabel('Time')\n",
    "plt.ylabel('Volatility')\n",
    "plt.title('Simulated Volatility Process')\n",
    "plt.grid()\n",
    "plt.show()"
   ]
  },
  {
   "cell_type": "code",
   "execution_count": null,
   "id": "a2a95a3b",
   "metadata": {},
   "outputs": [],
   "source": [
    "# Pricing \n",
    "S0 = 252.14; r = 0.036926; q = 0.004088; T = 1; K = 200; B = 180; n = 1000\n",
    "pricer = Pricer(model)\n",
    "\n",
    "# Put Option \n",
    "mtm = 7_036.45\n",
    "put_price = pricer.european(T, S0, r, q, K, type='Put')*n \n",
    "print(f\"European Put Price: {put_price:.2f}; Relative error: {(put_price/mtm - 1):.3%}\")\n",
    "\n",
    "# Digital Option\n",
    "mtm = 776.59\n",
    "digital_price = pricer.digital(T, S0, r, q, K, type='Call')*n\n",
    "print(f\"Digital Call Price: {digital_price:.2f}; Relative error: {(digital_price/mtm - 1):.3%}\")\n",
    "\n",
    "# Barrier Option\n",
    "mtm = 62_680.25\n",
    "barrier_price = pricer.barrier(T, S0, r, q, K, B, type='DownAndOut', npaths= 10**5, nsteps= 500, seed = 2025)*n\n",
    "print(f\"Barrier Option Price: {barrier_price:.2f}; Relative error: {(barrier_price/mtm - 1):.3%}\")\n"
   ]
  }
 ],
 "metadata": {
  "kernelspec": {
   "display_name": "Python 3",
   "language": "python",
   "name": "python3"
  },
  "language_info": {
   "codemirror_mode": {
    "name": "ipython",
    "version": 3
   },
   "file_extension": ".py",
   "mimetype": "text/x-python",
   "name": "python",
   "nbconvert_exporter": "python",
   "pygments_lexer": "ipython3",
   "version": "3.11.9"
  }
 },
 "nbformat": 4,
 "nbformat_minor": 5
}
